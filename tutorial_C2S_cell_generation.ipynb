{
 "cells": [
  {
   "cell_type": "markdown",
   "metadata": {},
   "source": [
    "# Notebook Summary\n",
    "\n",
    "This notebook is intended to show the workflow for using the Cell2Sentence (C2S) code base to:\n",
    "1. Load a pretrained C2S model\n",
    "2. Generate new cells conditioned on cell type"
   ]
  },
  {
   "cell_type": "code",
   "execution_count": 1,
   "metadata": {},
   "outputs": [
    {
     "name": "stderr",
     "output_type": "stream",
     "text": [
      "/vast/palmer/home.mccleary/sr2464/.conda/envs/cell2sentence/lib/python3.8/site-packages/tqdm/auto.py:21: TqdmWarning: IProgress not found. Please update jupyter and ipywidgets. See https://ipywidgets.readthedocs.io/en/stable/user_install.html\n",
      "  from .autonotebook import tqdm as notebook_tqdm\n"
     ]
    }
   ],
   "source": [
    "# Python built-in libraries\n",
    "import os\n",
    "\n",
    "# Local imports\n",
    "import cell2sentence as cs\n",
    "from cell2sentence.csmodel import CSModel"
   ]
  },
  {
   "cell_type": "code",
   "execution_count": 2,
   "metadata": {},
   "outputs": [],
   "source": [
    "# Define paths to pretrained C2S model, as well as the save directory and save name of the model (which will be resaved to disk)\n",
    "cell_type_cond_generation_model_path = \"/home/sr2464/palmer_scratch/C2S_Files_Syed/multicell_pretraining_v2_important_models/pythia-410m-multicell_v2_2024-07-28_14-10-44_checkpoint-7000_cell_type_cond_generation\"\n",
    "save_dir = \"/home/sr2464/palmer_scratch/C2S_Files_Syed/c2s_api_testing/csmodel_testing\"\n",
    "save_name = \"cell_type_cond_generation_pythia_410M_1\""
   ]
  },
  {
   "cell_type": "code",
   "execution_count": 3,
   "metadata": {},
   "outputs": [
    {
     "name": "stdout",
     "output_type": "stream",
     "text": [
      "Using device: cuda\n"
     ]
    }
   ],
   "source": [
    "# Define CSModel object\n",
    "csmodel = CSModel(\n",
    "    model_path_or_path=cell_type_cond_generation_model_path,\n",
    "    save_dir=save_dir,\n",
    "    save_name=save_name\n",
    ")"
   ]
  },
  {
   "cell_type": "code",
   "execution_count": 4,
   "metadata": {},
   "outputs": [
    {
     "name": "stdout",
     "output_type": "stream",
     "text": [
      "CSModel Object; Path=/home/sr2464/palmer_scratch/C2S_Files_Syed/c2s_api_testing/csmodel_testing/cell_type_cond_generation_pythia_410M_1\n"
     ]
    }
   ],
   "source": [
    "print(csmodel)"
   ]
  },
  {
   "cell_type": "code",
   "execution_count": 5,
   "metadata": {},
   "outputs": [],
   "source": [
    "# Define a list of cell types which we want to prompt the C2S model to generate\n",
    "cell_types_list = [\"neuron\", \"IgA plasma cell\", \"CD8-positive, alpha-beta T cell\"]"
   ]
  },
  {
   "cell_type": "code",
   "execution_count": 7,
   "metadata": {},
   "outputs": [
    {
     "name": "stdout",
     "output_type": "stream",
     "text": [
      "Reloading model from path on disk: /home/sr2464/palmer_scratch/C2S_Files_Syed/c2s_api_testing/csmodel_testing/cell_type_cond_generation_pythia_410M_1\n",
      "Generating 3 cells using CSModel...\n"
     ]
    },
    {
     "name": "stderr",
     "output_type": "stream",
     "text": [
      "100%|██████████| 3/3 [00:54<00:00, 18.10s/it]\n"
     ]
    }
   ],
   "source": [
    "# Generate cells using C2S model\n",
    "generated_cell_sentences = csmodel.generate_cells_conditioned_on_cell_type(\n",
    "    cell_types_list=cell_types_list,\n",
    "    n_genes=200,\n",
    "    organism=\"Homo sapiens\"\n",
    ")"
   ]
  },
  {
   "cell_type": "code",
   "execution_count": 8,
   "metadata": {},
   "outputs": [
    {
     "name": "stdout",
     "output_type": "stream",
     "text": [
      "3\n"
     ]
    }
   ],
   "source": [
    "print(len(generated_cell_sentences))"
   ]
  },
  {
   "cell_type": "code",
   "execution_count": 9,
   "metadata": {},
   "outputs": [
    {
     "name": "stdout",
     "output_type": "stream",
     "text": [
      "Generated neuron cell\n",
      "MALAT1 KCNIP4 ROBO2 NRG1 SNHG14 LSAMP FAM155A MEG3 LRP1B DPP10 GPC5 NRXN3 NRG3 KCND2 LRRTM4 GRIK1 PTPRD ROBO1 GRIK2 NRXN1 KCNQ5 LINGO2 FRMD4A NLGN1 SGCZ DSCAM ZFPM2 ANK2 DCC ADGRL3 RIMS2 CTNNA2 MAGI2 MEG8 PDE4D ZNF804B RALYL OPCML CNTNAP5 CNTNAP2 CDH18 CNTN5 PCDH15 ADGRB3 CSMD3 RBFOX1 IL1RAPL1 FGF14 MACROD2 CTNND2 ANKS1B GALNTL6 RGS6 FGF12 KCNQ3 DST CADM2 LRFN5 NCOA1 LRRC7 PPFIA2 CADPS ERBB4 RORA ADARB2 AHI1 GRIA4 TNRC6A DACH1 SLC35F1 CACNB2 UNC5C RIMS1 KAZN TMEM108 ZNF804A SMYD3 PCDH7 ADGRL2 DOCK3 SORCS1 SYT1 PDE4B SLC8A1 MAST4 RYR2 DGKB NEGR1 FTX GPHN ANK3 GRID2 TAFA1 UNC13C ATRNL1 UNC5D DPP6 GPC6 ATP8A2 TAFA2 RGS7 MEIS2 AIG1 RP11-384F7-1 DACH2 RP11-436D23 UNC79 RP11-563M4-1 PCDH9 AGBL4 PTPRM DNM3 DOCK4 NAV3 PPP2R2B LINC00632 CCSER1 TANC2 DCC TMEM178B ANO4 GPR158 PTPRN2 SNAP25 GRM8 MIR99AHG CACNA1C LHFPL3 CNTN1 SLC35F4 KCNH7 ATP1B1 MAPK10 NBEA ERC2 PAM PPP3CA EPHA6 MYT1L DNM1 MCTP1 STXBP5L NOVA1 ERC1 R3HDM1 ARID1B MLLT3 NTM UBE2E2 CADM1 RP11-307P5-1 PLXDC2 UNC80 SLC24A2 ZNF638 LINC01122 GRIP1 UNC80 EIF4G3 MAP2 KANSL1 GALNT13 FTH1 TCF7L2 LRRTM3 JMJD1C TENM3 RP11-69I8 RP11-673E1-2 TTTY14 TMEM232 UNC5A NCOA2 FRMD5 MIR100HG ERC1 ENOX1 KCNIP1 ADAM23 UTRN CACNA2D3 CAMTA1 TNRC6B NCAM2 GLS KANSL1L EXOC4 KIRREL3 CADPS2 PCLO PCDH11X RP11-111A21 RP4-660H19-1 ZFHX3 TTN-AS1 EIF4A2 TRIM9.<|endoftext|>\n"
     ]
    }
   ],
   "source": [
    "idx = 0\n",
    "print(\"Generated {} cell\".format(cell_types_list[idx]))\n",
    "print(generated_cell_sentences[idx])"
   ]
  },
  {
   "cell_type": "code",
   "execution_count": 10,
   "metadata": {},
   "outputs": [
    {
     "name": "stdout",
     "output_type": "stream",
     "text": [
      "Generated IgA plasma cell cell\n",
      "JCHAIN MALAT1 B2M JUN HSP90AA1 HSPA1A MT-CO1 MT-CO2 RPS4X RPL41 MT-ND4L FOS HSPA6 HSPB1 FTL RPS19 MT-ND1 DNAJB1 MT-CO3 MT-ND2 RPLP1 RPL3 DNAJB9 RPL13 MZB1 RPL10 BTG2 RPL34 TSC22D3 EEF1A1 TPT1 RPS18 RPL30 RPS27 RPS24 RPL15 RPL7A RPS15A RPS3A HSP90B1 RPL35A IER2 MT-CYB CD79A RPS12 RPL32 RPL14 UBC RPL18A RPL36AL RPL11 MT-ND3 RPL6 RPS8 PPP1R15A SSR4 RPL18 CD69 MT-ATP8 RPL8 RPS15 ACTB HSPA1B RPL12 RPS7 RPL29 RPL36 RPS14 RPS6 HLA-B RPS25 RPS2 FAU HLA-C EEF2 EIF1 RPS28 RPL5 FTH1 EIF4A1 UBB UBA52 RPS13 JUNB DNAJA1 RPL39 TMSB4X RPS11 RPL26 DNAAF1 RPL7 RPS3 BTG1 KLF6 IER3 RPL28 RPL35 RPL10A HSP90AB1 RPS9 RPS27A KLF2 RPL22 SSR3 FOSB RPS26 RPL19 RPL37 CYBA JUND TMSB10 RPS23 OAZ1 PSMB1 RPS21 RPS29 RPL37A RPSA SEC61G SRGN PFDN5 ARF1 RPS5 SERP1 PTMA RPL24 COX4I1 PPIA RPS16 CYCS EEF1D RACK1 HLA-E MYL6 DUSP1 HSPA8 TMA7 RPL9 RPL27A RPL21 SELENOK MT-ATP6 HLA-A TMEM59 RPL36A RPL13A DNAJC3 EAF2 EAF1 RPS20 EIF3F ZFP36 ZFAS1 RPLP0 RPL31 PABPC1 RPL4 RPLP2 RPL27 MT-ND4 IFRD1 UBE2J1 RPL23A DDX5 RPS26-AS1 MYDGF DAD1 SPCS1 SRSF3 RPL36AL RPL38 MTDH ARPC2 EIF3H EIF3E EMP3 SERF2 DNAJA2 FKBP11 NDUFA4 ERP29 RPL17 NDUFS5 FTL HINT1 H1-2 KMT2E COX7C FKBP2 TRMT112 SSR2 ATP5PF EIF2S2 COX5A ELOB RPL23 PPP1R12A TMED10 CIRBP RPL13AP5 OST4.<|endoftext|>\n"
     ]
    }
   ],
   "source": [
    "idx = 1\n",
    "print(\"Generated {} cell\".format(cell_types_list[idx]))\n",
    "print(generated_cell_sentences[idx])"
   ]
  },
  {
   "cell_type": "code",
   "execution_count": null,
   "metadata": {},
   "outputs": [],
   "source": []
  },
  {
   "cell_type": "code",
   "execution_count": null,
   "metadata": {},
   "outputs": [],
   "source": []
  }
 ],
 "metadata": {
  "kernelspec": {
   "display_name": "Python 3.8.19 64-bit ('cell2sentence')",
   "language": "python",
   "name": "python3"
  },
  "language_info": {
   "codemirror_mode": {
    "name": "ipython",
    "version": 3
   },
   "file_extension": ".py",
   "mimetype": "text/x-python",
   "name": "python",
   "nbconvert_exporter": "python",
   "pygments_lexer": "ipython3",
   "version": "3.8.19"
  },
  "orig_nbformat": 4,
  "vscode": {
   "interpreter": {
    "hash": "d7317d00728736e5bc6b206041e48559c1ea9129dca7c1c8495e920c1cfd698f"
   }
  }
 },
 "nbformat": 4,
 "nbformat_minor": 2
}
